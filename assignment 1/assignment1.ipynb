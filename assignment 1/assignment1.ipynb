{
 "cells": [
  {
   "cell_type": "markdown",
   "metadata": {},
   "source": [
    "# Assignment 1: Electron in a finite potential well\n",
    "## Yr2 Computing, 2018-2019, week 2 to 3\n",
    "\n",
    "You are to work through the tasks, as outlined below, by working within this notebook.\n",
    "By the end of the assignment you have to upload this file, containing the original content plus your answers to Canvas for marking. Note that the ** deadline ** for the assignment is different for each laboratory group. Check the Canvas pages carefully for the deadline of your assignment!\n",
    "\n",
    "This assignment consists of a brief introduction to the problem followed by five short assessed tasks. In total, there are 20 available marks, with the number of marks available for each task indicated in the respective task's header.\n",
    "\n",
    "Your results will be marked using a automatic script that expects your answers in a very specific format and cannot provide marks for 'almost correct' results. Make sure you follow the instructions below exactly!\n",
    "\n",
    "***\n",
    "\n",
    "**Before you submit the assigment**  \n",
    "After completing the tasks below you must upload this file to Canvas, see the 'How to Submit' page on Canvas for further information.\n",
    "\n",
    "It is useful to perform the following actions sometimes while you are working on the notebook, in order to catch potential problems early, rather than 5 minutes before the submission deadline.\n",
    "\n",
    "Before you submit the notebook, you should do the following:\n",
    " * After you have completed your response to each task you should run the final cell of this notebook containing the call ```student.check()```, which will check that the naming you have used for the variables and functions in this assignment is correct.\n",
    " * Select 'Kernel->Restart & Run All' in the Jupyter menu, this will reset and restart the notebook and run all your code sequentially, similar to what marking script will do.\n",
    " * Check that no errors occured and that the results are the same you had before. If something has changes, this is usually because you might have used some in-memory values in your notebook before, that are not available when run properly. \n",
    "*** "
   ]
  },
  {
   "cell_type": "markdown",
   "metadata": {},
   "source": [
    "## The system to investigate\n",
    "\n",
    "The aim of this assignment is to find the bound state energy eigenvalues (meaning $E < V_0$) for an electron subject to the potential: \n",
    "\n",
    "$$ V(x) = \\begin{cases} \n",
    "      V_0 & |x| \\geq \\frac{a}{2} \\\\\n",
    "      0 & |x| \\lt \\frac{a}{2}\n",
    "   \\end{cases}\n",
    "$$\n",
    "\n",
    "We will use your student ID number to customize the assessments , in this case the width $a$ and the potential $V_0$ will be set differently for each student. \n",
    "\n",
    "Enter your student ID in the variable studentID and execute the cell below. This will import the code for your assignment and generate and print the personalised parameters for tasks.\n",
    "\n",
    "Then, continue to answer the outlined questions below.  \n"
   ]
  },
  {
   "cell_type": "code",
   "execution_count": 1,
   "metadata": {},
   "outputs": [
    {
     "name": "stdout",
     "output_type": "stream",
     "text": [
      "Student ID found. Continue.\n",
      "\n",
      "The cell width is a = 1.68e-09 m and potential is V0 = 2.36 eV.\n",
      "\n",
      "Do not overwrite these values and do not use manually set numbers. Instead reference the varaibles \"a\" and \"V0\" directly where needed.\n",
      "\n"
     ]
    }
   ],
   "source": [
    "# Enter your student ID here:\n",
    "studentID = 1764303\n",
    "\n",
    "# Do not alter any of the code within this cell other than the value of studentID above\n",
    "from module_engine.assignment import Assignment1\n",
    "student = Assignment1(studentID) \n",
    "a, V0 = student.get_parameters()"
   ]
  },
  {
   "cell_type": "markdown",
   "metadata": {},
   "source": [
    "This potential with your well parameters is plotted using the code below."
   ]
  },
  {
   "cell_type": "code",
   "execution_count": 2,
   "metadata": {},
   "outputs": [
    {
     "data": {
      "image/png": "[encoded data removed]",
      "text/plain": [
       "<Figure size 432x288 with 1 Axes>"
      ]
     },
     "metadata": {
      "needs_background": "light"
     },
     "output_type": "display_data"
    }
   ],
   "source": [
    "import numpy as np\n",
    "import matplotlib.pyplot as plt\n",
    "%matplotlib inline\n",
    "\n",
    "x = np.linspace(-a, a, num=1000)\n",
    "# Each point of x is mapped to V0 if abs(x) >= a / 2 and 0 otherwise\n",
    "potential_array = np.piecewise(x, [abs(x) >= a / 2, abs(x) < a / 2],[V0, 0])\n",
    "plt.title('The Finite Square Well Potential')\n",
    "plt.xlabel(r'$x / m$')\n",
    "plt.ylabel(r'$V(x) / eV$')\n",
    "# np.amin and np.amax return the maximum and minimum values of an array respectively\n",
    "plt.axis([np.amin(x), np.amax(x), 0, 4/3*np.amax(potential_array)])\n",
    "plt.plot(x, potential_array)\n",
    "plt.show()"
   ]
  },
  {
   "cell_type": "markdown",
   "metadata": {},
   "source": [
    "For an electron in this potential, the parameter $x$ is related to the energy $E$ as $x=\\displaystyle \\frac{a}{\\hbar}\\sqrt{\\frac{mE}{2}}$, whith $a$ the well width, $\\hbar$ the reduced Planck's constant, and $m$ the mass of the electron, all in SI units. It can be shown (see Quantum Mechanics 2) that finding the energy eigenvalues reduces to finding the values of $x$ that satisfy one of the following equations:\n",
    "\n",
    "$$\\tan x = \\frac{\\sqrt{\\lambda_0 - x^2}}{x} \\quad (1)$$\n",
    "\n",
    "$$-\\cot x = \\frac{\\sqrt{\\lambda_0 - x^2}}{x} \\quad (2)$$\n",
    "\n",
    "Where $\\lambda_0 = \\frac{ma^2V_0}{2\\hbar^2}$ is a dimensionless constant dependent on the well parameters. Equation (1) yields energy eigenvalues whose wavefunctions are even, whilst equation (2) corresponds to the energies of odd wavefunctions.\n",
    "\n",
    "These equations are transcendental and numerical methods must be employed to obtain the solutions. Here we utilise the ```bisect``` method available in the SciPy library, and can be loaded from the `scipy.optimize` module. We have provided a simple example for using the `bisect` methos in the example notebook ```scipy_bisect_example.ipynb```."
   ]
  },
  {
   "cell_type": "markdown",
   "metadata": {},
   "source": [
    "## Task 1\n",
    "#### Marks available: 2\n",
    "The first task is to define a function named `rhs(x)`, describing the right hand side of equations $(1)$ and $(2)$. The function should expect **one** argument, `x`, which is to be a NumPy array. It should then return a NumPy array containing the result of\n",
    "$$\\frac{\\sqrt{\\lambda_0 - x^2}}{x}$$\n",
    "applied elementwise to `x`. \n",
    "\n",
    "The dimensionless constant $\\lambda_0$ is defined using your well parameters in the cell below. Be sure to reference this value in your `rhs` function.\n",
    "\n",
    "Note: NumPy has already been imported as `np` in the second code cell."
   ]
  },
  {
   "cell_type": "code",
   "execution_count": 3,
   "metadata": {},
   "outputs": [],
   "source": [
    "# Import the necessary constants from scipy.constants module\n",
    "from scipy import constants\n",
    "e = constants.e # Elementary Charge\n",
    "hbar = constants.hbar # Reduced Planck's constant\n",
    "m = constants.m_e # Electron mass\n",
    "\n",
    "# Do not alter this constant below\n",
    "lambda_0 = (m*(a**2)*V0*e)/(2*constants.hbar**2) \n",
    "\n",
    "# Write your rhs function here\n",
    "def rhs(x):\n",
    "    return np.sqrt(lambda_0 - x**2)/x"
   ]
  },
  {
   "cell_type": "markdown",
   "metadata": {},
   "source": [
    "This `rhs` function will be useful throughout this assignment and so it is worth checking that it behaves suitably. For example, a numpy array in the form `[1,2]` should be returned when you call your function with  \n",
    "`np.array([np.sqrt(lambda_0/2),np.sqrt(lambda_0/5)])` \n",
    "as an argument."
   ]
  },
  {
   "cell_type": "code",
   "execution_count": 4,
   "metadata": {},
   "outputs": [
    {
     "data": {
      "text/plain": [
       "array([1., 2.])"
      ]
     },
     "execution_count": 4,
     "metadata": {},
     "output_type": "execute_result"
    }
   ],
   "source": [
    "# Check your rhs function before proceeding\n",
    "\n",
    "rhs(    np.array([np.sqrt(lambda_0/2),np.sqrt(lambda_0/5)])    )"
   ]
  },
  {
   "cell_type": "markdown",
   "metadata": {},
   "source": [
    "## Task 2\n",
    "#### Marks available: 7\n",
    "\n",
    "In order to perform the bisection method, we require an interval which is known to contain a solution. Choosing this interval is straightforward if the relevant functions are represented graphically. This motivates this next task. \n",
    "\n",
    "In the following cell, use `matplotlib.pyplot` (already imported as `plt`) to plot the following three functions\n",
    " * $\\tan x$ \n",
    " * $\\displaystyle \\frac{\\sqrt{\\lambda_0 - x^2}}{x}$ \n",
    " * $-\\cot x$ \n",
    " \n",
    "on the **half-open** interval $\\big[0.1,\\sqrt\\lambda_0\\big)$, with at least 100 points. You must add your plots to the figure object provided, `student_figure`, with all three functions appearing on the same axes. You should ensure that your plot has a title, legend and labelled axes. \n",
    "\n",
    "***\n",
    "This is a good example for the need to follow the instructions exactly to get full marks. The task explicitly states an 'half-open' interval. If you simple define your range as:<br>\n",
    "```python\n",
    "x = np.linspace(0.1, np.sqrt(lambda_0), 200)\n",
    "```\n",
    "you will get a closed interval and the marking script will mark you down.\n",
    "Instead you should use the following code:<br>\n",
    "```python\n",
    "x = np.linspace(0.1, np.sqrt(lambda_0), 200, endpoint=False)\n",
    "```\n",
    "To catch potential issues like this, check your data and results (in this case the end point of x), and use online help pages to find the right code.\n",
    "***\n",
    "\n",
    "Limiting the range of values displayed on your $y$ axis is recommended in order that you can discern suitable intervals upon which to perform the bisection method (task 4)."
   ]
  },
  {
   "cell_type": "code",
   "execution_count": 5,
   "metadata": {},
   "outputs": [
    {
     "data": {
      "image/png": "[encoded data removed]",
      "text/plain": [
       "<Figure size 720x432 with 1 Axes>"
      ]
     },
     "metadata": {
      "needs_background": "light"
     },
     "output_type": "display_data"
    }
   ],
   "source": [
    "# For this task it can be useful to try interactive plot windows \n",
    "# to zoom in on the crossing points\n",
    "\n",
    "# Make sure to use the figure object created in the next line, \n",
    "# because the marking script will assess it by name\n",
    "student_figure = plt.figure(figsize=(10,6)) \n",
    "# You can now just add to and change this object by using plt.xxx function as\n",
    "# usual.\n",
    "\n",
    "# Add your code to plot onto student_figure here\n",
    "ax = student_figure.add_subplot(111)\n",
    "\n",
    "x = np.linspace(0.1, np.sqrt(lambda_0), 1000, endpoint=False)\n",
    "y1 = np.tan(x)\n",
    "y2 = -1/np.tan(x)\n",
    "y3 = rhs(x)\n",
    "\n",
    "plt.xlabel(r'$x$', fontsize=16) \n",
    "plt.ylabel(r'$f(x)$', fontsize=16) \n",
    "plt.axis([np.amin(x), np.amax(x), -20, 20]) \n",
    "\n",
    "ax.plot(x, y1, 'r', label=r'$y=tan(x)$')\n",
    "ax.plot(x, y2, 'g', label=r'$y=-cot(x)$')\n",
    "ax.plot(x, y3, 'b', label=r'$y=\\frac{\\sqrt{\\lambda_0 - x^2}}{x}$')\n",
    "\n",
    "ax.set_title('3 functions represented graphically', fontsize=20)\n",
    "ax.grid(True, axis = 'both')\n",
    "ax.legend(ncol=3, fancybox=True, fontsize=16)\n",
    "\n",
    "plt.show()"
   ]
  },
  {
   "cell_type": "markdown",
   "metadata": {},
   "source": [
    "## Task 3\n",
    "#### Marks available: 4\n",
    "Next, define two more functions called `even_equation` and `odd equation`. These should each take a NumPy array as their only argument and return a NumPy array containing the result of\n",
    "$$\\tan x - \\frac{\\sqrt{\\lambda_0 - x^2}}{x} \\quad \\text{(even_equation)}$$\n",
    "and\n",
    "$$\\cot x + \\frac{\\sqrt{\\lambda_0 - x^2}}{x} \\quad \\text{(odd_equation)}$$\n",
    "applied elementwise to the input array."
   ]
  },
  {
   "cell_type": "code",
   "execution_count": 6,
   "metadata": {},
   "outputs": [],
   "source": [
    "# Write the two required functions here.\n",
    "def even_equation(x):\n",
    "    return np.tan(x) - rhs(x)\n",
    "def odd_equation(x):\n",
    "    return 1/np.tan(x) + rhs(x)"
   ]
  },
  {
   "cell_type": "markdown",
   "metadata": {},
   "source": [
    "## Task 4\n",
    "#### Marks available: 4\n",
    "In the tasks above we used Numpy arrays for storing values and results. Numpy arrays are the data format we recommend for most use cases. However, sometimes you want to or have to use Python lists instead. Therefore  **the next two tasks require that you use Python lists** (you will not get marks if you use an array instead).\n",
    "\n",
    "Employing the `even_equation` and `odd_equation` functions defined in task 3, and making multiple calls to the `bisect` method on suitable intervals, find the 3 smallest solutions of equations $(1)$ and $(2)$ taken together. In other words, find the values of $x$ corresponding to the first 3 energy eigenvalues. \n",
    "\n",
    "Append these solutions in ascending order to the empty Python list `solution_list` defined below (so that `solution_list[0]` is the smallest $x$ solution and `solution_list[2]` the third smallest).\n",
    "\n",
    "Do not round or truncate these values."
   ]
  },
  {
   "cell_type": "code",
   "execution_count": 7,
   "metadata": {},
   "outputs": [
    {
     "name": "stderr",
     "output_type": "stream",
     "text": [
      "C:\\Users\\yusuf\\Anaconda3\\lib\\importlib\\_bootstrap.py:219: RuntimeWarning: numpy.ufunc size changed, may indicate binary incompatibility. Expected 192 from C header, got 216 from PyObject\n",
      "  return f(*args, **kwds)\n",
      "C:\\Users\\yusuf\\Anaconda3\\lib\\importlib\\_bootstrap.py:219: RuntimeWarning: numpy.ufunc size changed, may indicate binary incompatibility. Expected 192 from C header, got 216 from PyObject\n",
      "  return f(*args, **kwds)\n"
     ]
    }
   ],
   "source": [
    "# Importing scipy.optimize as optimize. This command will print an \n",
    "# Import Warning for some people, which can be safely ignored\n",
    "import scipy.optimize as optimize\n",
    "\n",
    "# Append your solutions to this list, which should be sorted in ascending order\n",
    "solution_list = [] \n",
    "\n",
    "# Write code to generate solutions and append to solution_list here\n",
    "root1 = optimize.bisect(even_equation, 1.0, 1.5)\n",
    "root2 = optimize.bisect(odd_equation, 2.5, 3.0)\n",
    "root3 = optimize.bisect(even_equation, 3.5, 4.5)\n",
    "\n",
    "solution_list.extend([root1, root2, root3])"
   ]
  },
  {
   "cell_type": "markdown",
   "metadata": {},
   "source": [
    "## Task 5\n",
    "#### Marks available: 3\n",
    "The final task is to write a function named `find_energy` which takes the **previously generated, ordered list** of $x$ solutions as a parameter. It should return a new list containing the 3 desired energy eigenvalues in $eV$. These are again to be in ascending order, but now each element should be a formatted **string** which retains **$3$ decimal places.**\n",
    "***\n",
    "The term '3 decimal places' refers to the number of digits behind the dot. This should include zeros as well. Examples for this formatting are:<br>\n",
    "12.223<br>\n",
    "-10.000<br>\n",
    "0.500<br>\n",
    "***\n",
    "\n",
    "Note: You should make use of the constants defined in task 1."
   ]
  },
  {
   "cell_type": "code",
   "execution_count": 8,
   "metadata": {},
   "outputs": [],
   "source": [
    "# Write the function find_energy here\n",
    "def find_energy(solutions):\n",
    "    energy_list = []\n",
    "    for x in solutions:\n",
    "        energy = ((2/m)*(x*hbar/a)**2)/(1.6*10**(-19))\n",
    "        energy_list.append(\"{:.3f}\".format(energy))\n",
    "    return energy_list\n"
   ]
  },
  {
   "cell_type": "markdown",
   "metadata": {},
   "source": [
    "As a check, the following loop should print the three values of energy with the specified formatting:"
   ]
  },
  {
   "cell_type": "code",
   "execution_count": 9,
   "metadata": {},
   "outputs": [
    {
     "name": "stdout",
     "output_type": "stream",
     "text": [
      "Energy Eigenvalue 0 is E = 0.101 eV\n",
      "Energy Eigenvalue 1 is E = 0.400 eV\n",
      "Energy Eigenvalue 2 is E = 0.889 eV\n"
     ]
    }
   ],
   "source": [
    "energy_solutions = find_energy(solution_list)\n",
    "\n",
    "for i, energy in enumerate(energy_solutions):\n",
    "    print('Energy Eigenvalue {} is E = {} eV'.format(i, energy))"
   ]
  },
  {
   "cell_type": "markdown",
   "metadata": {},
   "source": [
    "Please execute the following statement before submitting your work. It will check that you have used correct naming for the variables and functions specified in the above tasks. It will not tell you whether you have correctly defined and implemented these! You may execute this statement as many times as required."
   ]
  },
  {
   "cell_type": "code",
   "execution_count": 10,
   "metadata": {},
   "outputs": [
    {
     "name": "stdout",
     "output_type": "stream",
     "text": [
      "rhs function is correctly named.\n",
      "even_equation function is correctly named.\n",
      "odd_equation function is correctly named.\n",
      "find_energy function is correctly named.\n",
      "solution_list variable is correctly named.\n"
     ]
    }
   ],
   "source": [
    "student.check()"
   ]
  },
  {
   "cell_type": "markdown",
   "metadata": {},
   "source": [
    "Before you submit, select 'Kernel->Restart & Run All' in the Jupyter menu, this will reset and restart the notebook and run all your code sequentially, similar to what marking script will do"
   ]
  }
 ],
 "metadata": {
  "kernelspec": {
   "display_name": "Python 3",
   "language": "python",
   "name": "python3"
  },
  "language_info": {
   "codemirror_mode": {
    "name": "ipython",
    "version": 3
   },
   "file_extension": ".py",
   "mimetype": "text/x-python",
   "name": "python",
   "nbconvert_exporter": "python",
   "pygments_lexer": "ipython3",
   "version": "3.7.3"
  }
 },
 "nbformat": 4,
 "nbformat_minor": 2
}
