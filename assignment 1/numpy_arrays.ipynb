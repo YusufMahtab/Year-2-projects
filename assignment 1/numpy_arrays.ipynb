{
 "cells": [
  {
   "cell_type": "markdown",
   "metadata": {},
   "source": [
    "## Numpy Arrays versus Python Lists\n",
    "### Yr2 Computing, Andreas Freise\n",
    "This notebook demonstrates how to use Numpy arrays, in particular as input and output arguments of functions.  "
   ]
  },
  {
   "cell_type": "code",
   "execution_count": 1,
   "metadata": {
    "collapsed": true
   },
   "outputs": [],
   "source": [
    "# Relevant imports\n",
    "import numpy as np\n",
    "import math "
   ]
  },
  {
   "cell_type": "markdown",
   "metadata": {},
   "source": [
    "Numpy arrays and lists are containers that hold a number of other objects in a given order. In the following we discuss lists or Numpy arrays of floating point numbers.\n",
    "\n",
    "The objects in a Numpy array must all be the same type of data, but the structure is optimised for numerical operations. In particular Numpy arrays allow for faster and easier to code per-element operations, for example:"
   ]
  },
  {
   "cell_type": "code",
   "execution_count": 2,
   "metadata": {},
   "outputs": [
    {
     "name": "stdout",
     "output_type": "stream",
     "text": [
      "[1. 2. 3. 4.]\n"
     ]
    }
   ],
   "source": [
    "# creating a Numpy array\n",
    "x = np.array([3, 6, 9, 12])\n",
    "# a Numpy array allows easy access to per-element operations such as this:\n",
    "y = x / 3.0\n",
    "print(y)"
   ]
  },
  {
   "cell_type": "markdown",
   "metadata": {},
   "source": [
    "If we try the same with a list, we get an error:"
   ]
  },
  {
   "cell_type": "code",
   "execution_count": 1,
   "metadata": {},
   "outputs": [
    {
     "ename": "TypeError",
     "evalue": "unsupported operand type(s) for /: 'list' and 'float'",
     "output_type": "error",
     "traceback": [
      "\u001b[1;31m---------------------------------------------------------------------------\u001b[0m",
      "\u001b[1;31mTypeError\u001b[0m                                 Traceback (most recent call last)",
      "\u001b[1;32m<ipython-input-1-ca12204e0d75>\u001b[0m in \u001b[0;36m<module>\u001b[1;34m\u001b[0m\n\u001b[0;32m      1\u001b[0m \u001b[1;31m# creating a list\u001b[0m\u001b[1;33m\u001b[0m\u001b[1;33m\u001b[0m\u001b[1;33m\u001b[0m\u001b[0m\n\u001b[0;32m      2\u001b[0m \u001b[0mx\u001b[0m \u001b[1;33m=\u001b[0m \u001b[1;33m[\u001b[0m\u001b[1;36m3\u001b[0m\u001b[1;33m,\u001b[0m \u001b[1;36m6\u001b[0m\u001b[1;33m,\u001b[0m \u001b[1;36m9\u001b[0m\u001b[1;33m,\u001b[0m \u001b[1;36m12\u001b[0m\u001b[1;33m]\u001b[0m\u001b[1;33m\u001b[0m\u001b[1;33m\u001b[0m\u001b[0m\n\u001b[1;32m----> 3\u001b[1;33m \u001b[0my\u001b[0m \u001b[1;33m=\u001b[0m \u001b[0mx\u001b[0m \u001b[1;33m/\u001b[0m \u001b[1;36m3.0\u001b[0m\u001b[1;33m\u001b[0m\u001b[1;33m\u001b[0m\u001b[0m\n\u001b[0m",
      "\u001b[1;31mTypeError\u001b[0m: unsupported operand type(s) for /: 'list' and 'float'"
     ]
    }
   ],
   "source": [
    "# creating a list\n",
    "x = [3, 6, 9, 12]\n",
    "y = x / 3.0"
   ]
  },
  {
   "cell_type": "markdown",
   "metadata": {},
   "source": [
    "Or worse, sometimes we might not get an error but unexpected results. For example applying multiplication with an integer to a list would produce the following:"
   ]
  },
  {
   "cell_type": "code",
   "execution_count": 2,
   "metadata": {},
   "outputs": [
    {
     "name": "stdout",
     "output_type": "stream",
     "text": [
      "[3, 6, 9, 12, 3, 6, 9, 12, 3, 6, 9, 12]\n"
     ]
    }
   ],
   "source": [
    "# creating a list\n",
    "x = [3, 6, 9, 12]\n",
    "y = x * 3\n",
    "print(y)"
   ]
  },
  {
   "cell_type": "markdown",
   "metadata": {},
   "source": [
    "This is clearly not what we intended. Instead, when working with lists, we would have to explictly loop over the list to apply per-element operations, for example like this:"
   ]
  },
  {
   "cell_type": "code",
   "execution_count": 5,
   "metadata": {},
   "outputs": [
    {
     "name": "stdout",
     "output_type": "stream",
     "text": [
      "[1.0, 2.0, 3.0, 4.0]\n"
     ]
    }
   ],
   "source": [
    "x = [3, 6, 9, 12]\n",
    "y = []\n",
    "for e in x:\n",
    "    y.append (e / 3.0)\n",
    "print(y)"
   ]
  },
  {
   "cell_type": "markdown",
   "metadata": {},
   "source": [
    "There are shorter ways of writing similar code, but they are not as clear as using Numpy arrays:"
   ]
  },
  {
   "cell_type": "code",
   "execution_count": 6,
   "metadata": {},
   "outputs": [
    {
     "name": "stdout",
     "output_type": "stream",
     "text": [
      "[1.0, 2.0, 3.0, 4.0]\n"
     ]
    }
   ],
   "source": [
    "x = [3, 6, 9, 12]\n",
    "y = [e / 3.0 for e in x]\n",
    "print(y)"
   ]
  },
  {
   "cell_type": "markdown",
   "metadata": {},
   "source": [
    "And most importanly this syntax using lists is typically much slower than numpy arrays.\n",
    "\n",
    "** Defining a Function: Good Example **\n",
    "\n",
    "When we want to apply a more complex operation to each element of a range of numbers we write a function that use Numpy arrays as input and output argument. For example if we want to apply the operation $$f(x) = 3.0 * \\exp(x^2)$$ we can write:"
   ]
  },
  {
   "cell_type": "code",
   "execution_count": 7,
   "metadata": {
    "collapsed": true
   },
   "outputs": [],
   "source": [
    "def f(x):\n",
    "    return 3.0 * np.exp(np.power(x,2))"
   ]
  },
  {
   "cell_type": "markdown",
   "metadata": {},
   "source": [
    "This function can take a single floating point value as input or a Numpy array, and will return the same data format, for example:"
   ]
  },
  {
   "cell_type": "code",
   "execution_count": 8,
   "metadata": {},
   "outputs": [
    {
     "name": "stdout",
     "output_type": "stream",
     "text": [
      "[3.28252285 4.29998824 6.74372396 3.04351254]\n"
     ]
    }
   ],
   "source": [
    "x = [0.3, 0.6, 0.9, 0.12]\n",
    "y = f(x)\n",
    "print(y)"
   ]
  },
  {
   "cell_type": "markdown",
   "metadata": {},
   "source": [
    "** Bad Examples **\n",
    "\n",
    "Below are a few example of how **not** to write a function for Numpy arrays, all taken from previous students' submissions in this course."
   ]
  },
  {
   "cell_type": "code",
   "execution_count": 9,
   "metadata": {},
   "outputs": [
    {
     "name": "stdout",
     "output_type": "stream",
     "text": [
      "[3.2825228511156315, 4.29998824368102, 6.743723960029415, 3.043512538382288]\n"
     ]
    }
   ],
   "source": [
    "y = []\n",
    "def f_bad1(x):\n",
    "    for e in x:\n",
    "        y.append (3.0 * math.exp(e**2))\n",
    "    return y\n",
    "\n",
    "x = np.array([0.3, 0.6, 0.9, 0.12])\n",
    "y = f_bad1(x)\n",
    "print(y)"
   ]
  },
  {
   "cell_type": "markdown",
   "metadata": {},
   "source": [
    "At first glance this seems to work, but there are several mistakes in this code:\n",
    "  * The function has a for loop instead of using Numpy-based per-element operations, this will slow down the computation a lot.\n",
    "  * The function returns a list instead of an array, which here seems to be OK, as we are only printing the result, but if you would try to pass the output data to another function you would get an error\n",
    "  * The function appends to an array defined outside the function body, so if we were to call this twice we would get a longer array.\n",
    "  \n",
    "The two latter problems can be fixed as follows:"
   ]
  },
  {
   "cell_type": "code",
   "execution_count": 10,
   "metadata": {},
   "outputs": [
    {
     "name": "stdout",
     "output_type": "stream",
     "text": [
      "[3.28252285 4.29998824 6.74372396 3.04351254]\n"
     ]
    }
   ],
   "source": [
    "def f_bad2(x):\n",
    "    y = []\n",
    "    for e in x:\n",
    "        y.append (3.0 * math.exp(e**2))\n",
    "    return np.array(y)\n",
    "\n",
    "x = np.array([0.3, 0.6, 0.9, 0.12])\n",
    "y = f_bad2(x)\n",
    "print(y)"
   ]
  },
  {
   "cell_type": "markdown",
   "metadata": {},
   "source": [
    "This technically is a function that accepts and returns a Numpy array and performs the required operation. However, it uses list operations internally and does not correctly implement Numpy per-element operations for arrays. The marking scripts for this course should **not** accept such a function as correct."
   ]
  },
  {
   "cell_type": "code",
   "execution_count": null,
   "metadata": {
    "collapsed": true
   },
   "outputs": [],
   "source": []
  }
 ],
 "metadata": {
  "kernelspec": {
   "display_name": "Python 3",
   "language": "python",
   "name": "python3"
  },
  "language_info": {
   "codemirror_mode": {
    "name": "ipython",
    "version": 3
   },
   "file_extension": ".py",
   "mimetype": "text/x-python",
   "name": "python",
   "nbconvert_exporter": "python",
   "pygments_lexer": "ipython3",
   "version": "3.7.3"
  }
 },
 "nbformat": 4,
 "nbformat_minor": 2
}
