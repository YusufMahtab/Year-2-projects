{
 "cells": [
  {
   "cell_type": "markdown",
   "metadata": {},
   "source": [
    "## Bonus Task: A Softer Landing\n",
    "#### Unmarked\n",
    "This is an uncredited task for those that have finished and are interested in playing with the rocket some more. Similar to the previous task, you start 2000m above sea level and must guide your rocket to a 20m floating platform. This time, however, you also have the use of a vertical thruster to slow your descent. The thruster is capable of producing a thrust up to 5 times your rocket's weight, but there is only enough fuel to maintain full thrust for 7 seconds, so use it wisely! A landing will only be deemed successful if the rocket has a:\n",
    "\n",
    "* horizontal velocity $v_x<1$ m/s\n",
    "* vertical velocity $v_y<5$ m/s\n",
    "\n",
    "In this task you must switch the rocket to soft landing mode by using `reset('landing')`. Use the vertical thruster by adding a third argument `up_thrust` to the `.advance` function: `.advance(left_thrust, right_thrust, up_thrust)`.\n",
    "\n",
    "#### Hints:\n",
    "- The damped harmonic oscillator from the previous task may not be able to move the rocket sideways fast enough to reach the platform at the same time as keeping it stable for landing. For a high success rate, try to think of a way to do both of these."
   ]
  },
  {
   "cell_type": "code",
   "execution_count": null,
   "metadata": {},
   "outputs": [],
   "source": [
    "# Do not alter any of the code within this cell other \n",
    "# than the value of studentID\n",
    "import numpy as np\n",
    "import matplotlib.pyplot as plt\n",
    "# Setting global plotting settings\n",
    "plt.rcParams['font.size'] = 20\n",
    "plt.rcParams['axes.formatter.useoffset'] = False\n",
    "from module_engine.assignment import Rocket\n",
    "\n",
    "# Enter your student ID here\n",
    "studentID =     \n",
    "\n",
    "# Your Rocket object to be used throughout this assignment\n",
    "my_rocket = Rocket(studentID)  "
   ]
  },
  {
   "cell_type": "markdown",
   "metadata": {},
   "source": [
    "We need the calibrated thrust functions from the assignment; copy over 'acc2thrust_left' and 'acc2thrust_right' plus any parameters from the other notebook into the following cell."
   ]
  },
  {
   "cell_type": "code",
   "execution_count": null,
   "metadata": {},
   "outputs": [],
   "source": [
    "# Add functions 'acc2thrust_left' and 'acc2thrust_right' here \n"
   ]
  },
  {
   "cell_type": "code",
   "execution_count": null,
   "metadata": {},
   "outputs": [],
   "source": [
    "# Student code to land rocket\n",
    "my_rocket.reset_flight_counter()\n",
    "Nflights=40 \n",
    "N=0\n",
    "tracks=[]\n",
    "\n",
    "while N<Nflights:\n",
    "    my_rocket.reset('landing')\n",
    "    # Your code here\n",
    "    \n",
    "    \n",
    "    tracks.append(my_rocket.get_flight_data())\n",
    "    N+=1"
   ]
  },
  {
   "cell_type": "code",
   "execution_count": null,
   "metadata": {},
   "outputs": [],
   "source": [
    "# code to plot track data"
   ]
  }
 ],
 "metadata": {
  "kernelspec": {
   "display_name": "Python 3",
   "language": "python",
   "name": "python3"
  },
  "language_info": {
   "codemirror_mode": {
    "name": "ipython",
    "version": 3
   },
   "file_extension": ".py",
   "mimetype": "text/x-python",
   "name": "python",
   "nbconvert_exporter": "python",
   "pygments_lexer": "ipython3",
   "version": "3.5.4"
  }
 },
 "nbformat": 4,
 "nbformat_minor": 2
}
